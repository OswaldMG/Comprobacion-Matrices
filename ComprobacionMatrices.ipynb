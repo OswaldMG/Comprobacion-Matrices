{
  "nbformat": 4,
  "nbformat_minor": 0,
  "metadata": {
    "colab": {
      "provenance": [],
      "authorship_tag": "ABX9TyNiWmNIj2KUopaXyXORHYZ2",
      "include_colab_link": true
    },
    "kernelspec": {
      "name": "python3",
      "display_name": "Python 3"
    },
    "language_info": {
      "name": "python"
    }
  },
  "cells": [
    {
      "cell_type": "markdown",
      "metadata": {
        "id": "view-in-github",
        "colab_type": "text"
      },
      "source": [
        "<a href=\"https://colab.research.google.com/github/OswaldMG/Comprobacion-Matrices/blob/main/ComprobacionMatrices.ipynb\" target=\"_parent\"><img src=\"https://colab.research.google.com/assets/colab-badge.svg\" alt=\"Open In Colab\"/></a>"
      ]
    },
    {
      "cell_type": "markdown",
      "source": [
        "Prueba de funcionamiento"
      ],
      "metadata": {
        "id": "CLGiw5l6WD-a"
      }
    },
    {
      "cell_type": "code",
      "execution_count": null,
      "metadata": {
        "colab": {
          "base_uri": "https://localhost:8080/"
        },
        "id": "qzryC0niVLca",
        "outputId": "a57149b7-8003-4416-fe2f-d230f555952e"
      },
      "outputs": [
        {
          "output_type": "stream",
          "name": "stdout",
          "text": [
            "Suma:\n",
            "[[ 6  8]\n",
            " [10 12]]\n",
            "--------------------\n",
            "Resta:\n",
            "[[-4 -4]\n",
            " [-4 -4]]\n",
            "--------------------\n",
            "Multiplicacion_matriz_a_elemento:\n",
            "[[ 5 10]\n",
            " [15 20]]\n",
            "--------------------\n",
            "Multiplicacion_matricial:\n",
            "[[19 22]\n",
            " [43 50]]\n",
            "--------------------\n",
            "Division_matriz_a_elemento:\n",
            "[[0.5 1. ]\n",
            " [1.5 2. ]]\n",
            "--------------------\n",
            "Transpuesta_matrix1:\n",
            "[[1 3]\n",
            " [2 4]]\n",
            "--------------------\n",
            "Determinante_matrix1:\n",
            "-2.0000000000000004\n",
            "--------------------\n",
            "Inversa_matrix1:\n",
            "[[-2.   1. ]\n",
            " [ 1.5 -0.5]]\n",
            "--------------------\n"
          ]
        }
      ],
      "source": [
        "# prompt: necesito un codigo que haga todas las operaciones posibles en python con matrices\n",
        "\n",
        "import numpy as np\n",
        "\n",
        "def matrix_operations(matrix1, matrix2):\n",
        "  \"\"\"\n",
        "  Realiza varias operaciones con matrices.\n",
        "\n",
        "  Args:\n",
        "    matrix1: La primera matriz (NumPy array).\n",
        "    matrix2: La segunda matriz (NumPy array).\n",
        "\n",
        "  Returns:\n",
        "    Un diccionario que contiene los resultados de las operaciones.\n",
        "    Devuelve un mensaje de error si las matrices no son compatibles.\n",
        "  \"\"\"\n",
        "\n",
        "  results = {}\n",
        "\n",
        "  try:\n",
        "    # Suma\n",
        "    results['suma'] = matrix1 + matrix2\n",
        "\n",
        "    # Resta\n",
        "    results['resta'] = matrix1 - matrix2\n",
        "\n",
        "    # Multiplicación matriz a elemento\n",
        "    results['multiplicacion_matriz_a_elemento'] = matrix1 * 5\n",
        "\n",
        "    # Multiplicación matricial\n",
        "    results['multiplicacion_matricial'] = np.dot(matrix1, matrix2)\n",
        "\n",
        "    # División matriz a elemento\n",
        "    results['division_matriz_a_elemento'] = matrix1 / 2\n",
        "\n",
        "\n",
        "    # Transpuesta de la primera matriz\n",
        "    results['transpuesta_matrix1'] = matrix1.transpose()\n",
        "\n",
        "    # Determinante de la primera matriz (si es cuadrada)\n",
        "    if matrix1.shape[0] == matrix1.shape[1]:\n",
        "      results['determinante_matrix1'] = np.linalg.det(matrix1)\n",
        "    else:\n",
        "      results['determinante_matrix1'] = \"La matriz no es cuadrada\"\n",
        "\n",
        "    # Inversa de la primera matriz (si es cuadrada y no singular)\n",
        "    if matrix1.shape[0] == matrix1.shape[1]:\n",
        "      try:\n",
        "          results['inversa_matrix1'] = np.linalg.inv(matrix1)\n",
        "      except np.linalg.LinAlgError:\n",
        "          results['inversa_matrix1'] = \"La matriz no es invertible\"\n",
        "    else:\n",
        "      results['inversa_matrix1'] = \"La matriz no es cuadrada\"\n",
        "\n",
        "  except ValueError as e:\n",
        "      return f\"Error: {e}. Las matrices no son compatibles para algunas operaciones.\"\n",
        "\n",
        "  return results\n",
        "\n",
        "\n",
        "\n",
        "# Ejemplo de uso:\n",
        "matrix_a = np.array([[1, 2], [3, 4]])\n",
        "matrix_b = np.array([[5, 6], [7, 8]])\n",
        "\n",
        "resultados = matrix_operations(matrix_a, matrix_b)\n",
        "\n",
        "for operacion, resultado in resultados.items():\n",
        "  print(f\"{operacion.capitalize()}:\")\n",
        "  print(resultado)\n",
        "  print(\"-\" * 20)\n"
      ]
    },
    {
      "cell_type": "markdown",
      "source": [
        "# **ACT #1**"
      ],
      "metadata": {
        "id": "hO5bhxkVZsUW"
      }
    },
    {
      "cell_type": "code",
      "source": [
        "import numpy as np\n",
        "\n",
        "#Matrices\n",
        "matrix1 = np.array([[5, 2, -4], [6, 0, -3], [7, -1, 2]])\n",
        "matrix2 = np.array([[1],[1],[2]])\n",
        "\n",
        "matrix3 = np.array([[5, 3], [4, 6]])\n",
        "matrix4 = np.array([[5],[7]])\n",
        "\n",
        "#Operaciones\n",
        "resultados=np.dot(matrix1, matrix2)\n",
        "print(\"Act #1\")\n",
        "print(\"a)\\n\",resultados)\n",
        "resultados=np.dot(matrix3, matrix4)\n",
        "print(\"\\nb)\\n\",resultados)\n",
        "print(\"-\" * 20)\n"
      ],
      "metadata": {
        "colab": {
          "base_uri": "https://localhost:8080/"
        },
        "id": "EZkB3_CBZxdn",
        "outputId": "57bc6bca-2766-4b7e-ef7c-864d026eed52"
      },
      "execution_count": null,
      "outputs": [
        {
          "output_type": "stream",
          "name": "stdout",
          "text": [
            "Act #1\n",
            "a)\n",
            " [[-1]\n",
            " [ 0]\n",
            " [10]]\n",
            "\n",
            "b)\n",
            " [[46]\n",
            " [62]]\n",
            "--------------------\n"
          ]
        }
      ]
    },
    {
      "cell_type": "markdown",
      "source": [
        "# **Act #2**"
      ],
      "metadata": {
        "id": "NyUtgf5wc7IL"
      }
    },
    {
      "cell_type": "code",
      "source": [
        "import numpy as np\n",
        "\n",
        "#Matrices\n",
        "matrix1 = np.array([[5, 2], [3, 1]])\n",
        "\n",
        "matrix2 = np.array([[1, 2, 3], [4, 0, -1], [5, 0, 6]])\n",
        "matrix3 = np.array([[6, 8, 7], [5, -1, 2], [-4, 5, 4]])\n",
        "\n",
        "matrix4 = np.array([[4, 3], [2, 1]])\n",
        "matrix5 = np.array([[-1, 2],[1, 0]])\n",
        "\n",
        "#Operaciones\n",
        "print(\"Act #2\")\n",
        "resultados=matrix1*(-6)\n",
        "print(\"a)\\n\",resultados)\n",
        "resultados=matrix2+matrix3\n",
        "print(\"b)\\n\",resultados)\n",
        "resultados=(matrix4*5)+(matrix5*6)\n",
        "print(\"c)\\n\",resultados)\n",
        "print(\"-\" * 20)"
      ],
      "metadata": {
        "colab": {
          "base_uri": "https://localhost:8080/"
        },
        "id": "ro86NCFSdQ9K",
        "outputId": "45272b5a-96ab-49b3-a6d3-648130809ead"
      },
      "execution_count": null,
      "outputs": [
        {
          "output_type": "stream",
          "name": "stdout",
          "text": [
            "Act #2\n",
            "a)\n",
            " [[-30 -12]\n",
            " [-18  -6]]\n",
            "b)\n",
            " [[ 7 10 10]\n",
            " [ 9 -1  1]\n",
            " [ 1  5 10]]\n",
            "c)\n",
            " [[14 27]\n",
            " [16  5]]\n",
            "--------------------\n"
          ]
        }
      ]
    },
    {
      "cell_type": "markdown",
      "source": [
        "# **Act #4**"
      ],
      "metadata": {
        "id": "RmBVN0A-hni8"
      }
    },
    {
      "cell_type": "code",
      "source": [
        "import numpy as np\n",
        "\n",
        "#Matrices\n",
        "Ma = np.array([[-1, 0, 2], [5, 6, 1], [0, 0, 2]])\n",
        "Mb = np.array([[2, 5, 0], [-1, -1, -1], [3, 2, 1]])\n",
        "Vv = np.array([[1], [0], [2]])\n",
        "Vw = np.array([[3], [-2], [1]])\n",
        "\n",
        "\n",
        "\n",
        "#Operaciones\n",
        "print(\"Act #4\")\n",
        "resultados=(Ma+Mb).transpose()\n",
        "resultados=np.dot(resultados,Vv)\n",
        "print(\"1)\\n\",resultados)\n",
        "resultados=Ma.transpose()\n",
        "print(\"2)\\n\",resultados)\n",
        "resultados=Mb.transpose()\n",
        "print(\"\\n\",resultados)\n",
        "resultados=(np.dot(Ma,Vw).transpose())\n",
        "resultados=np.dot(resultados,np.dot(Mb,Vv))\n",
        "print(\"3)\\n\",resultados)\n",
        "resultados=np.dot(Ma,Mb)\n",
        "resultados=resultados.transpose()\n",
        "print(\"4)\\n\",resultados)\n",
        "resultados=Ma.transpose()\n",
        "resultados=np.dot(resultados,Mb)\n",
        "resultados=np.dot(resultados,Vv)\n",
        "Vw=Vw.transpose()\n",
        "resultados=np.dot(resultados,Vw)\n",
        "print(\"5)\\n\",resultados)\n",
        "print(\"-\" * 20)"
      ],
      "metadata": {
        "id": "Oe2IaE1dk0DH",
        "colab": {
          "base_uri": "https://localhost:8080/"
        },
        "outputId": "953a82a2-3e64-4f92-c54b-14330e445d83"
      },
      "execution_count": null,
      "outputs": [
        {
          "output_type": "stream",
          "name": "stdout",
          "text": [
            "Act #4\n",
            "1)\n",
            " [[7]\n",
            " [9]\n",
            " [8]]\n",
            "2)\n",
            " [[-1  5  0]\n",
            " [ 0  6  0]\n",
            " [ 2  1  2]]\n",
            "\n",
            " [[ 2 -1  3]\n",
            " [ 5 -1  2]\n",
            " [ 0 -1  1]]\n",
            "3)\n",
            " [[-4]]\n",
            "4)\n",
            " [[ 4  7  6]\n",
            " [-1 21  4]\n",
            " [ 2 -5  2]]\n",
            "5)\n",
            " [[-51  34 -17]\n",
            " [-54  36 -18]\n",
            " [ 33 -22  11]]\n",
            "--------------------\n"
          ]
        }
      ]
    },
    {
      "cell_type": "markdown",
      "source": [
        "# **Act #5**\n",
        "\n"
      ],
      "metadata": {
        "id": "D_ixTiild0yd"
      }
    },
    {
      "cell_type": "code",
      "source": [
        "import numpy as np\n",
        "\n",
        "#Matrices\n",
        "matrix1 = np.array([[0, 1], [1, 0]])\n",
        "matrix2 = np.array([[3, 4], [2, 1]])\n",
        "matrix3 = np.array([[1, -4], [-2, 3]])\n",
        "\n",
        "\n",
        "\n",
        "#Operaciones\n",
        "print(\"Act #5\")\n",
        "resultado=np.linalg.inv(matrix1)\n",
        "print(\"1)\\n\",resultados)\n",
        "resultados=np.linalg.inv(matrix2)\n",
        "print(\"2)\\n\",resultados)\n",
        "resultados=np.linalg.inv(matrix3)\n",
        "print(\"3)\\n\",resultados)\n",
        "print(\"-\" * 20)"
      ],
      "metadata": {
        "id": "ylVhZyCLeEgy"
      },
      "execution_count": null,
      "outputs": []
    },
    {
      "cell_type": "markdown",
      "source": [
        "# **Act #6**"
      ],
      "metadata": {
        "id": "cEp1YEkohn39"
      }
    },
    {
      "cell_type": "code",
      "source": [
        "import numpy as np\n",
        "\n",
        "#Matrices\n",
        "matrix1 = np.array([[2, 1], [5, 2]])\n",
        "\n",
        "matrix2 = np.array([[2, 0], [1, 3]])\n",
        "matrix3 = np.array([[1, 1], [2, 0]])\n",
        "\n",
        "matrix4 = np.array([[1/2, -1], [1/4, 2]])\n",
        "matrix5 = np.array([[2],[4]])\n",
        "\n",
        "matrix6 = np.array([[1/3, 2/3], [-1, 0]])\n",
        "\n",
        "matrix7 = np.array([[3, -1]])\n",
        "matrix8 = np.array([[2/3, 4/3],[1, 6]])\n",
        "matrix9 = np.array([[1],[1]])\n",
        "\n",
        "matrix10 = np.array([[5],[0]])\n",
        "matrix11 = np.array([[2, 8],[-1, 16]])\n",
        "matrix12 = np.array([[2],[1]])\n",
        "\n",
        "matrix13 = np.array([[2, 3],[0, 1]])\n",
        "matrix14 = np.array([[1, 1],[2, 0]])\n",
        "\n",
        "#Operaciones\n",
        "print(\"Act #6\")\n",
        "\n",
        "resultados=np.linalg.inv(matrix1)\n",
        "print(\"1)\\n\",resultados)\n",
        "\n",
        "matrix2=matrix2.transpose()\n",
        "matrix3=np.linalg.inv(matrix3)\n",
        "resultados=np.dot(matrix2,matrix3)\n",
        "print(\"2)\\n\",resultados)\n",
        "\n",
        "resultados=np.dot(matrix4,matrix5)\n",
        "print(\"3)\\n\",resultados)\n",
        "\n",
        "resultados=np.linalg.inv(matrix6.transpose())\n",
        "print(\"4)\\n\",resultados)\n",
        "\n",
        "matrix8=np.linalg.inv(matrix8)\n",
        "resultados=np.dot(matrix7,matrix8)\n",
        "resultados=np.dot(resultados,matrix9)\n",
        "print(\"5)\\n\",resultados)\n",
        "\n",
        "matrix10=matrix10.transpose()\n",
        "matrix11=np.linalg.inv(matrix11)\n",
        "resultados=np.dot(matrix10,matrix11)\n",
        "resultados=np.dot(resultados,matrix12)\n",
        "print(\"6)\\n\",resultados)\n",
        "\n",
        "resutados=np.dot(matrix13,matrix14)\n",
        "resultados=np.linalg.inv(resutados)\n",
        "print(\"7)\\n\",resultados)\n",
        "\n",
        "print(\"-\" * 20)"
      ],
      "metadata": {
        "colab": {
          "base_uri": "https://localhost:8080/"
        },
        "id": "EEylU6j5hpuN",
        "outputId": "fc8312e8-c320-4e98-a02e-52114f12f462"
      },
      "execution_count": null,
      "outputs": [
        {
          "output_type": "stream",
          "name": "stdout",
          "text": [
            "Act #6\n",
            "1)\n",
            " [[-2.  1.]\n",
            " [ 5. -2.]]\n",
            "2)\n",
            " [[ 1.   0.5]\n",
            " [ 3.  -1.5]]\n",
            "3)\n",
            " [[-3. ]\n",
            " [ 8.5]]\n",
            "4)\n",
            " [[ 0.   1.5]\n",
            " [-1.   0.5]]\n",
            "5)\n",
            " [[5.375]]\n",
            "6)\n",
            " [[3.]]\n",
            "--------------------\n"
          ]
        }
      ]
    },
    {
      "cell_type": "markdown",
      "source": [
        "# **Act #7**"
      ],
      "metadata": {
        "id": "J-CYiXwkfrnd"
      }
    },
    {
      "cell_type": "code",
      "source": [
        "import numpy as np\n",
        "\n",
        "#Matrices\n",
        "matrix1 = np.array([[1, 0, 0], [2, 1, 0], [4, 4, 4]])\n",
        "matrix2 = np.array([[-2, 1, 0], [2, 4, 6], [0, 2, 2]])\n",
        "matrix3 = np.array([[5, 1, 2], [3, 1, 2], [1, 1, 2]])\n",
        "\n",
        "\n",
        "#Operaciones\n",
        "print(\"Act #2\")\n",
        "resultados=np.linalg.inv(matrix1)\n",
        "print(\"a)\\n\",resultados)\n",
        "resultados=np.linalg.inv(matrix2)\n",
        "print(\"b)\\n\",resultados)\n",
        "#resultados=np.linalg.inv(matrix3)\n",
        "#NO se puede, imposible facturar\n",
        "print(\"c)\\n NO se puede, imposible facturar\")\n",
        "print(\"-\" * 20)"
      ],
      "metadata": {
        "colab": {
          "base_uri": "https://localhost:8080/"
        },
        "id": "aGwyf5EQ6kw7",
        "outputId": "cb2c1cbd-4bac-43dc-c674-21139da3acb2"
      },
      "execution_count": null,
      "outputs": [
        {
          "output_type": "stream",
          "name": "stdout",
          "text": [
            "Act #2\n",
            "a)\n",
            " [[ 1.    0.    0.  ]\n",
            " [-2.    1.   -0.  ]\n",
            " [ 1.   -1.    0.25]]\n",
            "b)\n",
            " [[-1.  -0.5  1.5]\n",
            " [-1.  -1.   3. ]\n",
            " [ 1.   1.  -2.5]]\n",
            "c)\n",
            " NO se puede, imposible facturar\n",
            "--------------------\n"
          ]
        }
      ]
    },
    {
      "cell_type": "markdown",
      "source": [
        "# **Act #8**"
      ],
      "metadata": {
        "id": "3allEbF6jJPm"
      }
    },
    {
      "cell_type": "code",
      "source": [
        "import numpy as np\n",
        "\n",
        "print(\"Act #8\")\n",
        "print(\"En un examen de matemáticasde 3 preguntas un estudiante obtuvo una calificación de 7.2. \\nLa puntuación del primer problema fue de 40% mas que lo del segundo.\\n La del tercero fue del doble de la suma del primero y el segundo\")\n",
        "print(\"X + Y + Z = 7.2\")\n",
        "print(\"X - 1.4 = 0\")\n",
        "print(\"2X + 2Y - Z = 0\\n\")\n",
        "\n",
        "#Matrices\n",
        "matrix=([[1,1,1],[1,-1.4,0],[2,2,-1]])\n",
        "resultado=([[7.2],[0],[0]])\n",
        "\n",
        "#Operaciones\n",
        "inv=np.linalg.inv(matrix)\n",
        "final=np.dot(inv,resultado)\n",
        "print(final,\"\\n\")\n",
        "\n",
        "print(\"Un estudiante pidió en la cafetería 3 bocadillos, 2 refrescos y 2 bolsas de papas\\n\")\n",
        "print(\"Pagó un total de $19. Al mirar la cuenta comprobó que le habían\\ncobrando 1 bocadillo y 1 bolsa de mas. Reclamó y le devolvieron $4.\\nPara compensar el error el vendedor le ofreció\")\n",
        "print(\"llevarse un bocadillo y un refresco por solo $3, lo que suponia un descuento de 40% respecto a los originales. ?Cuáles eran los precios sin descuento?\")\n",
        "print(\"4X + 2Y + 3Z = 19\")\n",
        "print(\"X - Z = 4\")\n",
        "print(\"0.6X + 0.6Y = 3\\n\")\n",
        "\n",
        "#Matrices\n",
        "matrix=([[4,2,3],[1,0,-1],[0.6,0.6,0]])\n",
        "resultado=([[19],[4],[3]])\n",
        "\n",
        "#Operaciones\n",
        "inv=np.linalg.inv(matrix)\n",
        "final=np.dot(inv,resultado)\n",
        "print(final,\"\\n\")\n",
        "\n",
        "\n",
        "print(\"-\" * 20)\n"
      ],
      "metadata": {
        "id": "IvbEYp00jUAs",
        "outputId": "3a2eb86d-86c1-42a4-bdd0-3fa168bb528a",
        "colab": {
          "base_uri": "https://localhost:8080/"
        }
      },
      "execution_count": 13,
      "outputs": [
        {
          "output_type": "stream",
          "name": "stdout",
          "text": [
            "0.6X + 0.5Y + 0 = 0.3(X+Y+Z)\n",
            "0.2X + 0.6Y + 0.6Z = 0.5(X+Y+Z)\n",
            "X - 2Y = 100\n",
            "\n",
            "[[-500.]\n",
            " [-600.]\n",
            " [-900.]] \n",
            "\n",
            "En un examen de matemáticasde 3 preguntas un estudiante obtuvo una calificación de 7.2. \n",
            "La puntuación del primer problema fue de 40% mas que lo del segundo.\n",
            " La del tercero fue del doble de la suma del primero y el segundo\n",
            "X + Y + Z = 7.2\n",
            "X - 1.4 = 0\n",
            "2X + 2Y - Z = 0\n",
            "\n",
            "[[1.4]\n",
            " [1. ]\n",
            " [4.8]] \n",
            "\n",
            "Un estudiante pidió en la cafetería 3 bocadillos, 2 refrescos y 2 bolsas de papas\n",
            "\n",
            "Pagó un total de $19. Al mirar la cuenta comprobó que le habían\n",
            "cobrando 1 bocadillo y 1 bolsa de mas. Reclamó y le devolvieron $4.\n",
            "Para compensar el error el vendedor le ofreció\n",
            "llevarse un bocadillo y un refresco por solo $3, lo que suponia un descuento de 40% respecto a los originales. ?Cuáles eran los precios sin descuento?\n",
            "4X + 2Y + 3Z = 19\n",
            "X - Z = 4\n",
            "0.6X + 0.6Y = 3\n",
            "\n",
            "[[4.2]\n",
            " [0.8]\n",
            " [0.2]] \n",
            "\n",
            "--------------------\n"
          ]
        }
      ]
    },
    {
      "cell_type": "markdown",
      "source": [
        "# **Act #9**"
      ],
      "metadata": {
        "id": "_yCEH7cxnvLT"
      }
    },
    {
      "cell_type": "code",
      "source": [
        "import numpy as np\n",
        "\n",
        "print(\"Act #9\")\n",
        "print(\"Una marca de vehiculos vende coches blancos, negros y rojos.\\n\")\n",
        "print(\"El 60% de los coches blancos más el 50% de los negros representan el 30% de los coches vendidos\")\n",
        "print(\"0.6X + 0.5Y + 0 = 0.3(X+Y+Z)\")\n",
        "print(\"0.2X + 0.6Y + 0.6Z = 0.5(X+Y+Z)\")\n",
        "print(\"X - 2Y = 100\\n\")\n",
        "\n",
        "#Matrices\n",
        "matrix=([[0.3,0.2,-0.3],[-0.3,0.1,0.1],[1,-1,0]])\n",
        "resultado=([[0],[0],[100]])\n",
        "\n",
        "#Operaciones\n",
        "inv=np.linalg.inv(matrix)\n",
        "final=np.dot(inv,resultado)\n",
        "print(final,\"\\n\")"
      ],
      "metadata": {
        "id": "_K7_hNXkn0TP",
        "outputId": "02e4cd95-2041-462a-9aaf-6ebcc8bb717c",
        "colab": {
          "base_uri": "https://localhost:8080/"
        }
      },
      "execution_count": 14,
      "outputs": [
        {
          "output_type": "stream",
          "name": "stdout",
          "text": [
            "Una marca de vehiculos vende coches blancos, negros y rojos.\n",
            "\n",
            "El 60% de los coches blancos más el 50% de los negros representan el 30% de los coches vendidos\n",
            "0.6X + 0.5Y + 0 = 0.3(X+Y+Z)\n",
            "0.2X + 0.6Y + 0.6Z = 0.5(X+Y+Z)\n",
            "X - 2Y = 100\n",
            "\n",
            "[[-500.]\n",
            " [-600.]\n",
            " [-900.]] \n",
            "\n"
          ]
        }
      ]
    },
    {
      "cell_type": "markdown",
      "source": [
        "# **Act #10**"
      ],
      "metadata": {
        "id": "jvWw-7-zyNtz"
      }
    },
    {
      "cell_type": "code",
      "source": [
        "import numpy as np\n",
        "\n",
        "#Matrices\n",
        "matrix1=np.array([[2,3],[5,4]])\n",
        "matrix2=np.array([[-1,0],[0,-1]])\n",
        "\n",
        "matrix3=np.array([[2,3],[4,0]])\n",
        "matrix4=np.array([[1,1],[1,-1]])\n",
        "\n",
        "matrix5=np.array([[2,1,5],[3,1,0],[2,0,1]])\n",
        "matrix6=np.array([[2,0,0],[0,4,0],[0,0,1]])\n",
        "\n",
        "matrix7=np.array([[3,-1,2],[2,2,1],[1,1,1]])\n",
        "matrix8=np.array([[2,0,0],[1,1,1],[2,0,3]])\n",
        "\n",
        "#Operaciones\n",
        "print(\"Act #10\")\n",
        "resultados=np.dot(matrix1,matrix2)\n",
        "resultados=np.linalg.det(resultados)\n",
        "print(\"1)\\n\",resultados)\n",
        "matrix3=matrix3 * 2\n",
        "matrix4=matrix4 * 4\n",
        "resultados=matrix3 - matrix4\n",
        "resultados=np.linalg.det(resultados)\n",
        "print(\"2)\\n\",resultados)\n",
        "resultados=np.dot(matrix5,matrix6)\n",
        "resultados=np.linalg.det(resultados)\n",
        "print(\"3)\\n\",resultados)\n",
        "matrix8=np.linalg.inv(matrix8)\n",
        "resultados=np.dot(matrix7,matrix8)\n",
        "resultados=np.linalg.det(resultados)\n",
        "print(\"4)\\n\",resultados)"
      ],
      "metadata": {
        "id": "mHKolphcySVt",
        "outputId": "cc312f46-850b-4693-906d-09216aed1bd5",
        "colab": {
          "base_uri": "https://localhost:8080/"
        }
      },
      "execution_count": 29,
      "outputs": [
        {
          "output_type": "stream",
          "name": "stdout",
          "text": [
            "Act #10\n",
            "1)\n",
            " -6.999999999999999\n",
            "2)\n",
            " -7.999999999999998\n",
            "3)\n",
            " -88.00000000000003\n",
            "4)\n",
            " 0.6666666666666666\n"
          ]
        }
      ]
    },
    {
      "cell_type": "code",
      "source": [
        "import numpy as np\n",
        "\n",
        "M = np.array([[1, 0], [1, 5],[1, 15]])\n",
        "T = np.array([[0.7],[11.1],[31.2]])\n",
        "\n",
        "#Operaciones\n",
        "ctrl=np.dot((M.transpose()),M)\n",
        "ctrl=np.linalg.inv(ctrl)\n",
        "ctrl=np.dot(ctrl,M.transpose())\n",
        "ctrl=np.dot(ctrl,T)\n",
        "up=ctrl[0]*1\n",
        "down=ctrl[1]*3\n",
        "ctrl=up+down\n",
        "print(ctrl)\n"
      ],
      "metadata": {
        "id": "DCGQIQWEuEZF",
        "outputId": "e471bba9-1d00-4524-a46b-35252a11c64b",
        "colab": {
          "base_uri": "https://localhost:8080/"
        }
      },
      "execution_count": null,
      "outputs": [
        {
          "output_type": "stream",
          "name": "stdout",
          "text": [
            "[6.89]\n"
          ]
        }
      ]
    }
  ]
}